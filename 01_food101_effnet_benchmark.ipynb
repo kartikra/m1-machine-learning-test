{
 "cells": [
  {
   "cell_type": "markdown",
   "metadata": {
    "colab_type": "text",
    "id": "view-in-github"
   },
   "source": [
    "<a href=\"https://colab.research.google.com/github/mrdbourke/m1-machine-learning-test/blob/main/01_food101_effnet_benchmark.ipynb\" target=\"_parent\"><img src=\"https://colab.research.google.com/assets/colab-badge.svg\" alt=\"Open In Colab\"/></a>"
   ]
  },
  {
   "cell_type": "markdown",
   "metadata": {
    "id": "V2tdnA60uOMm"
   },
   "source": [
    "# Food101 EfficientNetB0 Feature Extraction Benchmark\n",
    "\n",
    "The following notebook tests the speed at which a given device can perform training iterations on the Food101 dataset (~100,000 total images) using [EfficientNetB0](https://arxiv.org/abs/1905.11946) as a base model.\n",
    "\n",
    "It's designed to be a simple test to compare Apple's M1 (normal, Pro, Max) to each other and other sources of compute.\n",
    "\n",
    "| Model | Dataset | Train Size | Test Size |\n",
    "| ----- | ----- | ----- | ----- |\n",
    "| [EfficientNetB0](https://www.tensorflow.org/api_docs/python/tf/keras/applications/efficientnet/EfficientNetB0) (pretrained on ImageNet) | Food 101 ([from TensorFlow Datasets](https://www.tensorflow.org/datasets/catalog/food101)) | ~75,000 images | ~25,000 images|\n",
    "\n",
    "## Resources\n",
    "* Code on GitHub: https://github.com/mrdbourke/m1-machine-learning-test\n",
    "* Code in this notebook adapted from: https://dev.mrdbourke.com/tensorflow-deep-learning/07_food_vision_milestone_project_1/ "
   ]
  },
  {
   "cell_type": "markdown",
   "metadata": {
    "id": "ZnvtBgcszhJk"
   },
   "source": [
    "## Check for GPU\n",
    "\n",
    "If you're using Google Colab, you'll need to activate a GPU:\n",
    "1. Go to \"Runtime\"\n",
    "2. Go to \"Change Runtime Type\"\n",
    "3. Select \"GPU\"\n",
    "4. Click \"Save\" (this will restart the runtime)\n",
    "\n",
    "If you're using a Mac with an M1 chip, the GPU should already be selected if you've installed TensorFlow correctly."
   ]
  },
  {
   "cell_type": "code",
   "execution_count": 1,
   "metadata": {
    "colab": {
     "base_uri": "https://localhost:8080/"
    },
    "id": "eaCi-HVqs9SD",
    "outputId": "95c66bcf-4978-4186-8246-1775147e45b8"
   },
   "outputs": [
    {
     "name": "stdout",
     "output_type": "stream",
     "text": [
      "Sat Aug  6 09:31:17 2022       \n",
      "+-----------------------------------------------------------------------------+\n",
      "| NVIDIA-SMI 515.65.01    Driver Version: 515.65.01    CUDA Version: 11.7     |\n",
      "|-------------------------------+----------------------+----------------------+\n",
      "| GPU  Name        Persistence-M| Bus-Id        Disp.A | Volatile Uncorr. ECC |\n",
      "| Fan  Temp  Perf  Pwr:Usage/Cap|         Memory-Usage | GPU-Util  Compute M. |\n",
      "|                               |                      |               MIG M. |\n",
      "|===============================+======================+======================|\n",
      "|   0  NVIDIA GeForce ...  On   | 00000000:01:00.0 Off |                  N/A |\n",
      "| N/A   37C    P8    17W /  N/A |      5MiB / 16384MiB |      0%      Default |\n",
      "|                               |                      |                  N/A |\n",
      "+-------------------------------+----------------------+----------------------+\n",
      "                                                                               \n",
      "+-----------------------------------------------------------------------------+\n",
      "| Processes:                                                                  |\n",
      "|  GPU   GI   CI        PID   Type   Process name                  GPU Memory |\n",
      "|        ID   ID                                                   Usage      |\n",
      "|=============================================================================|\n",
      "|    0   N/A  N/A      2479      G   /usr/lib/xorg/Xorg                  4MiB |\n",
      "+-----------------------------------------------------------------------------+\n"
     ]
    }
   ],
   "source": [
    "# This will error if not using a Nvidia GPU (only works on Colab)\n",
    "!nvidia-smi"
   ]
  },
  {
   "cell_type": "code",
   "execution_count": 2,
   "metadata": {},
   "outputs": [
    {
     "name": "stderr",
     "output_type": "stream",
     "text": [
      "2022-08-06 09:31:18.357689: I tensorflow/core/util/util.cc:169] oneDNN custom operations are on. You may see slightly different numerical results due to floating-point round-off errors from different computation orders. To turn them off, set the environment variable `TF_ENABLE_ONEDNN_OPTS=0`.\n",
      "/home/kartik/.conda/envs/tfgpu-2.9/lib/python3.9/site-packages/scipy/__init__.py:146: UserWarning: A NumPy version >=1.16.5 and <1.23.0 is required for this version of SciPy (detected version 1.23.1\n",
      "  warnings.warn(f\"A NumPy version >={np_minversion} and <{np_maxversion}\"\n",
      "2022-08-06 09:31:19.328007: I tensorflow/stream_executor/cuda/cuda_gpu_executor.cc:975] successful NUMA node read from SysFS had negative value (-1), but there must be at least one NUMA node, so returning NUMA node zero\n",
      "2022-08-06 09:31:19.352028: I tensorflow/stream_executor/cuda/cuda_gpu_executor.cc:975] successful NUMA node read from SysFS had negative value (-1), but there must be at least one NUMA node, so returning NUMA node zero\n",
      "2022-08-06 09:31:19.352125: I tensorflow/stream_executor/cuda/cuda_gpu_executor.cc:975] successful NUMA node read from SysFS had negative value (-1), but there must be at least one NUMA node, so returning NUMA node zero\n"
     ]
    },
    {
     "data": {
      "text/plain": [
       "[PhysicalDevice(name='/physical_device:CPU:0', device_type='CPU'),\n",
       " PhysicalDevice(name='/physical_device:GPU:0', device_type='GPU')]"
      ]
     },
     "execution_count": 2,
     "metadata": {},
     "output_type": "execute_result"
    }
   ],
   "source": [
    "# Check for GPU using TensorFlow\n",
    "import tensorflow as tf\n",
    "tf.config.list_physical_devices()"
   ]
  },
  {
   "cell_type": "markdown",
   "metadata": {
    "id": "VCaYVPaa7yXc"
   },
   "source": [
    "## Setup hyperparameters\n",
    "\n",
    "Change these to suit your needs.\n",
    "\n",
    "The main one will be the device you're running code on.\n",
    "\n",
    "E.g. `DEVICE = \"Google Colab (K80 GPU)\"` if using Google Colab."
   ]
  },
  {
   "cell_type": "code",
   "execution_count": 3,
   "metadata": {
    "id": "5dMYCl3Z71ZC"
   },
   "outputs": [],
   "source": [
    "# Setup hyperparameters\n",
    "BATCH_SIZE = 32 # good for your health: https://twitter.com/ylecun/status/989610208497360896\n",
    "EPOCHS = 5 # only run for a short period of time... we don't have all day\n",
    "DATASET_NAME = \"food101\" # change this to try other image datasets from TensorFlow Datasets\n",
    "DEVICE = \"NVIDIA GeForce RTX 3080 Laptop GPU\"  # Note: Change this depending on where you're running code"
   ]
  },
  {
   "cell_type": "markdown",
   "metadata": {
    "id": "UwyPg5c5zjbR"
   },
   "source": [
    "## Get helper functions and import dependencies\n",
    "\n",
    "The function below downloads the helper functions if necessary (if running this notebook in Google Colab, it's easier to download a single file than clone the whole repo)."
   ]
  },
  {
   "cell_type": "code",
   "execution_count": 4,
   "metadata": {
    "colab": {
     "base_uri": "https://localhost:8080/"
    },
    "id": "Y3qSf0iQvjpd",
    "outputId": "43954d84-f524-497c-d276-5628df5f4ff8"
   },
   "outputs": [
    {
     "name": "stdout",
     "output_type": "stream",
     "text": [
      "Helper functions already downloaded, skipping redownload.\n"
     ]
    }
   ],
   "source": [
    "# Get helper functions\n",
    "import os\n",
    "import requests\n",
    "\n",
    "if not os.path.exists(\"helper_functions.py\"):\n",
    "  print(\"Downloading helper functions...\")\n",
    "  r = requests.get(\"https://raw.githubusercontent.com/mrdbourke/m1-machine-learning-test/main/helper_functions.py\")\n",
    "  print(\"Writing helper functions to file...\")\n",
    "  open(\"helper_functions.py\", \"wb\").write(r.content)\n",
    "else:\n",
    "  print(\"Helper functions already downloaded, skipping redownload.\")"
   ]
  },
  {
   "cell_type": "code",
   "execution_count": 5,
   "metadata": {
    "colab": {
     "base_uri": "https://localhost:8080/"
    },
    "id": "8QDVW2octS28",
    "outputId": "3caab34f-1200-4c48-903e-c2692b33538e"
   },
   "outputs": [
    {
     "name": "stdout",
     "output_type": "stream",
     "text": [
      "2.9.1\n"
     ]
    }
   ],
   "source": [
    "# Check TensorFlow version\n",
    "import tensorflow as tf\n",
    "print(tf.__version__) # should be 2.5.0+\n",
    "\n",
    "# Get TensorFlow Datasets\n",
    "import tensorflow_datasets as tfds\n",
    "\n",
    "# Get data science libraries\n",
    "import pandas as pd\n",
    "import numpy as np\n",
    "import matplotlib.pyplot as plt\n",
    "\n",
    "from tensorflow.keras import layers\n",
    "from timeit import default_timer as timer \n",
    "from helper_functions import print_train_time"
   ]
  },
  {
   "cell_type": "markdown",
   "metadata": {
    "id": "fub1QJ7UuybU"
   },
   "source": [
    "## Download Data\n",
    "\n",
    "We'll download the data from the Food101 dataset [stored in TensorFlow Datasets](https://www.tensorflow.org/datasets/catalog/food101). This dataset contains ~100,000 images and should be a good test to see how the machines go with a larger dataset.\n",
    "\n",
    "> **Note:** Downloading the dataset (running the cell below) will download ~4.5GB of images to your local machine (or to Google Colab). Depending on your internet, it could take 5-20 minutes.\n",
    "\n"
   ]
  },
  {
   "cell_type": "code",
   "execution_count": 6,
   "metadata": {
    "id": "mvErMJcRtaXr"
   },
   "outputs": [
    {
     "name": "stderr",
     "output_type": "stream",
     "text": [
      "2022-08-06 09:31:22.034974: I tensorflow/core/platform/cpu_feature_guard.cc:193] This TensorFlow binary is optimized with oneAPI Deep Neural Network Library (oneDNN) to use the following CPU instructions in performance-critical operations:  AVX2 AVX512F AVX512_VNNI FMA\n",
      "To enable them in other operations, rebuild TensorFlow with the appropriate compiler flags.\n",
      "2022-08-06 09:31:22.036457: I tensorflow/stream_executor/cuda/cuda_gpu_executor.cc:975] successful NUMA node read from SysFS had negative value (-1), but there must be at least one NUMA node, so returning NUMA node zero\n",
      "2022-08-06 09:31:22.036628: I tensorflow/stream_executor/cuda/cuda_gpu_executor.cc:975] successful NUMA node read from SysFS had negative value (-1), but there must be at least one NUMA node, so returning NUMA node zero\n",
      "2022-08-06 09:31:22.036697: I tensorflow/stream_executor/cuda/cuda_gpu_executor.cc:975] successful NUMA node read from SysFS had negative value (-1), but there must be at least one NUMA node, so returning NUMA node zero\n",
      "2022-08-06 09:31:22.330258: I tensorflow/stream_executor/cuda/cuda_gpu_executor.cc:975] successful NUMA node read from SysFS had negative value (-1), but there must be at least one NUMA node, so returning NUMA node zero\n",
      "2022-08-06 09:31:22.330372: I tensorflow/stream_executor/cuda/cuda_gpu_executor.cc:975] successful NUMA node read from SysFS had negative value (-1), but there must be at least one NUMA node, so returning NUMA node zero\n",
      "2022-08-06 09:31:22.330447: I tensorflow/stream_executor/cuda/cuda_gpu_executor.cc:975] successful NUMA node read from SysFS had negative value (-1), but there must be at least one NUMA node, so returning NUMA node zero\n",
      "2022-08-06 09:31:22.330528: I tensorflow/core/common_runtime/gpu/gpu_device.cc:1532] Created device /job:localhost/replica:0/task:0/device:GPU:0 with 14257 MB memory:  -> device: 0, name: NVIDIA GeForce RTX 3080 Laptop GPU, pci bus id: 0000:01:00.0, compute capability: 8.6\n"
     ]
    }
   ],
   "source": [
    "# Load in the data (takes about 5-6 minutes in Google Colab)\n",
    "(train_data, test_data), ds_info = tfds.load(name=DATASET_NAME, # target dataset to get from TFDS\n",
    "                                             split=[\"train\", \"validation\"], # what splits of data should we get? note: not all datasets have train, valid, test\n",
    "                                             shuffle_files=True, # shuffle files on download?\n",
    "                                             as_supervised=True, # download data in tuple format (sample, label), e.g. (image, label)\n",
    "                                             with_info=True) # include dataset metadata? if so, tfds.load() returns tuple (data, ds_info)"
   ]
  },
  {
   "cell_type": "markdown",
   "metadata": {
    "id": "7X2Sgw3Z1rZd"
   },
   "source": [
    "## Check out dataset\n",
    "\n",
    "Let's check a few things with the data to make sure it's okay to model. "
   ]
  },
  {
   "cell_type": "code",
   "execution_count": 7,
   "metadata": {
    "colab": {
     "base_uri": "https://localhost:8080/"
    },
    "id": "fI-s31aOuo3-",
    "outputId": "aa231d55-d8f0-4254-fdb8-2d0528454922"
   },
   "outputs": [
    {
     "data": {
      "text/plain": [
       "(75750, 25250)"
      ]
     },
     "execution_count": 7,
     "metadata": {},
     "output_type": "execute_result"
    }
   ],
   "source": [
    "# Check number of samples\n",
    "len(train_data), len(test_data)"
   ]
  },
  {
   "cell_type": "code",
   "execution_count": 8,
   "metadata": {
    "colab": {
     "base_uri": "https://localhost:8080/"
    },
    "id": "BReXYZwhtdq2",
    "outputId": "c103c4f2-34d1-441b-d39e-b7bfa16a6971"
   },
   "outputs": [
    {
     "data": {
      "text/plain": [
       "(['apple_pie',\n",
       "  'baby_back_ribs',\n",
       "  'baklava',\n",
       "  'beef_carpaccio',\n",
       "  'beef_tartare',\n",
       "  'beet_salad',\n",
       "  'beignets',\n",
       "  'bibimbap',\n",
       "  'bread_pudding',\n",
       "  'breakfast_burrito'],\n",
       " 101)"
      ]
     },
     "execution_count": 8,
     "metadata": {},
     "output_type": "execute_result"
    }
   ],
   "source": [
    "# Get class names\n",
    "class_names = ds_info.features[\"label\"].names\n",
    "class_names[:10], len(class_names)"
   ]
  },
  {
   "cell_type": "code",
   "execution_count": 9,
   "metadata": {
    "colab": {
     "base_uri": "https://localhost:8080/",
     "height": 367
    },
    "id": "d4VN9HfCtoup",
    "outputId": "dcdfdbb1-faae-44f7-d20e-e90f54ee3828"
   },
   "outputs": [
    {
     "name": "stdout",
     "output_type": "stream",
     "text": [
      "\n",
      "  Image shape: (512, 289, 3)\n",
      "  Image dtype: <dtype: 'uint8'>\n",
      "  Target class from Food101 (tensor form): 45\n",
      "  Class name (str form): frozen_yogurt\n",
      "        \n"
     ]
    },
    {
     "data": {
      "image/png": "[encoded data removed]",
      "text/plain": [
       "<Figure size 432x288 with 1 Axes>"
      ]
     },
     "metadata": {
      "needs_background": "light"
     },
     "output_type": "display_data"
    }
   ],
   "source": [
    "# Take one sample off the training data\n",
    "train_one_sample = train_data.take(1) # samples are in format (image_tensor, label)\n",
    "\n",
    "# Output info about our training sample\n",
    "for image, label in train_one_sample:\n",
    "  print(f\"\"\"\n",
    "  Image shape: {image.shape}\n",
    "  Image dtype: {image.dtype}\n",
    "  Target class from Food101 (tensor form): {label}\n",
    "  Class name (str form): {class_names[label.numpy()]}\n",
    "        \"\"\")\n",
    "  plt.imshow(image)\n",
    "  plt.title(class_names[label.numpy()])\n",
    "  plt.axis(False)"
   ]
  },
  {
   "cell_type": "markdown",
   "metadata": {
    "id": "oyU6gLkg1w9d"
   },
   "source": [
    "## Prepare data\n",
    "\n",
    "The data looks good. But before we model it, we're going to prepare it to run as fast as possible using [TensorFlow data loading best practices](https://www.tensorflow.org/guide/data_performance).\n",
    "\n",
    "As EfficientNetB0 takes images of size `(224, 224, 3)`, we'll resize all the images to that size."
   ]
  },
  {
   "cell_type": "code",
   "execution_count": 10,
   "metadata": {
    "id": "WxIwNybPt5JP"
   },
   "outputs": [],
   "source": [
    "# Make a function for preprocessing images\n",
    "def preprocess_img(image, label, img_shape=224):\n",
    "  \"\"\"\n",
    "  Converts image datatype from 'uint8' -> 'float32' and reshapes image to\n",
    "  [img_shape, img_shape, color_channels]\n",
    "  \"\"\"\n",
    "  image = tf.image.resize(image, [img_shape, img_shape]) # reshape to img_shape\n",
    "  return tf.cast(image, tf.float32), label # return (float32_image, label) tuple"
   ]
  },
  {
   "cell_type": "code",
   "execution_count": 11,
   "metadata": {
    "id": "FcqnLdGNuDAH"
   },
   "outputs": [],
   "source": [
    "# Map preprocessing function to training data (and paralellize)\n",
    "train_data = train_data.map(map_func=preprocess_img, num_parallel_calls=tf.data.AUTOTUNE)\n",
    "# Shuffle train_data and turn it into batches and prefetch it (load it faster)\n",
    "train_data = train_data.shuffle(buffer_size=1000).batch(batch_size=32).prefetch(buffer_size=tf.data.AUTOTUNE)\n",
    "\n",
    "# Map prepreprocessing function to test data\n",
    "test_data = test_data.map(preprocess_img, num_parallel_calls=tf.data.AUTOTUNE)\n",
    "# Turn test data into batches (don't need to shuffle)\n",
    "test_data = test_data.batch(BATCH_SIZE).prefetch(tf.data.AUTOTUNE)"
   ]
  },
  {
   "cell_type": "markdown",
   "metadata": {
    "id": "xVNYiGtK2BPQ"
   },
   "source": [
    "## Setup model\n",
    "\n",
    "We'll setup the model to use EfficientNetB0 pretrained on ImageNet as the base model. But we'll replace the top layers to be more suited to our Food101 problem (101 output neurons instead of the standard 1000 output neurons).\n",
    "\n",
    "Also we'll run the model setup code before fitting the model so the model downloads to file separate from training (this will ensure the model downloading time won't add to the training time measure)."
   ]
  },
  {
   "cell_type": "code",
   "execution_count": 12,
   "metadata": {
    "id": "JS3ZgR8HuJiH"
   },
   "outputs": [],
   "source": [
    "# Set random seed\n",
    "tf.random.set_seed(42)\n",
    "\n",
    "# Create base model\n",
    "input_shape = (224, 224, 3)\n",
    "base_model = tf.keras.applications.EfficientNetB0(include_top=False)\n",
    "base_model.trainable = False # freeze base model layers\n",
    "\n",
    "# Create Functional model \n",
    "inputs = layers.Input(shape=input_shape, name=\"input_layer\")\n",
    "# Note: EfficientNetBX models have rescaling built-in but if your model didn't you could have a layer like below\n",
    "# x = preprocessing.Rescaling(1./255)(x)\n",
    "x = base_model(inputs, training=False) # set base_model to inference mode only\n",
    "x = layers.GlobalAveragePooling2D(name=\"pooling_layer\")(x)\n",
    "outputs = layers.Dense(len(class_names), activation=\"softmax\")(x) # want one output neuron per class \n",
    "model = tf.keras.Model(inputs, outputs, name=\"EfficientNetB0_feature_extract\")\n",
    "\n",
    "# Compile the model\n",
    "model.compile(loss=\"sparse_categorical_crossentropy\", # Use sparse_categorical_crossentropy when labels are *not* one-hot\n",
    "              optimizer=tf.keras.optimizers.Adam(),\n",
    "              metrics=[\"accuracy\"])"
   ]
  },
  {
   "cell_type": "markdown",
   "metadata": {
    "id": "T5LkeKAv2hqR"
   },
   "source": [
    "## Fit the model\n",
    "\n",
    "Let's fit the model and track it's performance.\n",
    "\n",
    "We're not so much concerned of the accuracy as much as the time per epoch."
   ]
  },
  {
   "cell_type": "code",
   "execution_count": 13,
   "metadata": {
    "colab": {
     "base_uri": "https://localhost:8080/"
    },
    "id": "ejR_43M1uWAe",
    "outputId": "18cd231d-e391-4a70-acce-55417f767848"
   },
   "outputs": [
    {
     "name": "stdout",
     "output_type": "stream",
     "text": [
      "Epoch 1/5\n"
     ]
    },
    {
     "name": "stderr",
     "output_type": "stream",
     "text": [
      "2022-08-06 09:31:36.365164: I tensorflow/stream_executor/cuda/cuda_dnn.cc:384] Loaded cuDNN version 8401\n",
      "2022-08-06 09:31:37.155138: I tensorflow/core/platform/default/subprocess.cc:304] Start cannot spawn child process: No such file or directory\n"
     ]
    },
    {
     "name": "stdout",
     "output_type": "stream",
     "text": [
      "   5/2368 [..............................] - ETA: 1:24 - loss: 4.7000 - accuracy: 0.0188     "
     ]
    },
    {
     "name": "stderr",
     "output_type": "stream",
     "text": [
      "2022-08-06 09:31:37.535287: I tensorflow/stream_executor/cuda/cuda_blas.cc:1786] TensorFloat-32 will be used for the matrix multiplication. This will only be logged once.\n"
     ]
    },
    {
     "name": "stdout",
     "output_type": "stream",
     "text": [
      "2368/2368 [==============================] - 115s 46ms/step - loss: 1.7168 - accuracy: 0.5834 - val_loss: 1.1351 - val_accuracy: 0.6989\n",
      "Epoch 2/5\n",
      "2368/2368 [==============================] - 109s 46ms/step - loss: 1.2005 - accuracy: 0.6881 - val_loss: 1.0314 - val_accuracy: 0.7213\n",
      "Epoch 3/5\n",
      "2368/2368 [==============================] - 109s 46ms/step - loss: 1.0531 - accuracy: 0.7253 - val_loss: 0.9986 - val_accuracy: 0.7294\n",
      "Epoch 4/5\n",
      "2368/2368 [==============================] - 110s 46ms/step - loss: 0.9592 - accuracy: 0.7474 - val_loss: 0.9788 - val_accuracy: 0.7337\n",
      "Epoch 5/5\n",
      "2368/2368 [==============================] - 110s 46ms/step - loss: 0.8887 - accuracy: 0.7649 - val_loss: 0.9751 - val_accuracy: 0.7326\n",
      "\n",
      "Train time on NVIDIA GeForce RTX 3080 Laptop GPU: 552.716 seconds\n"
     ]
    }
   ],
   "source": [
    "# Start timer\n",
    "start_time = timer()\n",
    "\n",
    "# Fit the model\n",
    "history = model.fit(train_data, \n",
    "                    epochs=EPOCHS,\n",
    "                    steps_per_epoch=len(train_data),\n",
    "                    validation_data=test_data,\n",
    "                    validation_steps=len(test_data))\n",
    "\n",
    "# End timer\n",
    "end_time = timer()\n",
    "\n",
    "# Print results\n",
    "train_time = print_train_time(start=start_time,\n",
    "                              end=end_time,\n",
    "                              device=DEVICE)"
   ]
  },
  {
   "cell_type": "markdown",
   "metadata": {
    "id": "hewegjHv2vWW"
   },
   "source": [
    "## Track results and save to file"
   ]
  },
  {
   "cell_type": "code",
   "execution_count": 14,
   "metadata": {
    "colab": {
     "base_uri": "https://localhost:8080/",
     "height": 153
    },
    "id": "zAUWHaw_vEar",
    "outputId": "8386ac81-d931-4693-d0b1-b5a1ad4a39ec"
   },
   "outputs": [
    {
     "data": {
      "text/html": [
       "<div>\n",
       "<style scoped>\n",
       "    .dataframe tbody tr th:only-of-type {\n",
       "        vertical-align: middle;\n",
       "    }\n",
       "\n",
       "    .dataframe tbody tr th {\n",
       "        vertical-align: top;\n",
       "    }\n",
       "\n",
       "    .dataframe thead th {\n",
       "        text-align: right;\n",
       "    }\n",
       "</style>\n",
       "<table border=\"1\" class=\"dataframe\">\n",
       "  <thead>\n",
       "    <tr style=\"text-align: right;\">\n",
       "      <th></th>\n",
       "      <th>device</th>\n",
       "      <th>dataset_name</th>\n",
       "      <th>epochs</th>\n",
       "      <th>batch_size</th>\n",
       "      <th>num_train_samples</th>\n",
       "      <th>num_test_samples</th>\n",
       "      <th>total_train_time</th>\n",
       "      <th>time_per_epoch</th>\n",
       "      <th>model</th>\n",
       "    </tr>\n",
       "  </thead>\n",
       "  <tbody>\n",
       "    <tr>\n",
       "      <th>0</th>\n",
       "      <td>NVIDIA GeForce RTX 3080 Laptop GPU</td>\n",
       "      <td>food101</td>\n",
       "      <td>5</td>\n",
       "      <td>32</td>\n",
       "      <td>75776</td>\n",
       "      <td>25280</td>\n",
       "      <td>552.716</td>\n",
       "      <td>110.543</td>\n",
       "      <td>EfficientNetB0_feature_extract</td>\n",
       "    </tr>\n",
       "  </tbody>\n",
       "</table>\n",
       "</div>"
      ],
      "text/plain": [
       "                               device dataset_name  epochs  batch_size  \\\n",
       "0  NVIDIA GeForce RTX 3080 Laptop GPU      food101       5          32   \n",
       "\n",
       "   num_train_samples  num_test_samples  total_train_time  time_per_epoch  \\\n",
       "0              75776             25280           552.716         110.543   \n",
       "\n",
       "                            model  \n",
       "0  EfficientNetB0_feature_extract  "
      ]
     },
     "execution_count": 14,
     "metadata": {},
     "output_type": "execute_result"
    }
   ],
   "source": [
    "results = {\n",
    "    \"device\": DEVICE,\n",
    "    \"dataset_name\": DATASET_NAME,\n",
    "    \"epochs\": EPOCHS,\n",
    "    \"batch_size\": BATCH_SIZE,\n",
    "    \"num_train_samples\": len(train_data)*BATCH_SIZE,\n",
    "    \"num_test_samples\": len(test_data)*BATCH_SIZE,\n",
    "    \"total_train_time\": round(train_time, 3),\n",
    "    \"time_per_epoch\": round(train_time/EPOCHS, 3),\n",
    "    \"model\": model.name\n",
    "    }\n",
    "results_df = pd.DataFrame(results, index=[0])\n",
    "results_df"
   ]
  },
  {
   "cell_type": "code",
   "execution_count": 15,
   "metadata": {
    "id": "a6g_REeI7QWH"
   },
   "outputs": [],
   "source": [
    "# Write CSV to file\n",
    "if not os.path.exists(\"results/\"):\n",
    "  os.makedirs(\"results/\")\n",
    "\n",
    "results_df.to_csv(f\"results/{DEVICE}_{DATASET_NAME}.csv\")"
   ]
  },
  {
   "cell_type": "markdown",
   "metadata": {
    "id": "dttjWpeP3IOl"
   },
   "source": [
    "## Extras\n",
    "\n",
    "Make sure to delete the extra downloaded files (the Food101 dataset) if you do not want to keep them on your machine."
   ]
  },
  {
   "cell_type": "code",
   "execution_count": 16,
   "metadata": {},
   "outputs": [],
   "source": [
    "# Change this to suit your path\n",
    "import shutil\n",
    "try:\n",
    "    shutil.rmtree(\"/home/kartik/tensorflow_datasets/food101/\")\n",
    "except OSError as e:\n",
    "    print(f\"Error: {e.filename} - {e.strerror}\")"
   ]
  }
 ],
 "metadata": {
  "accelerator": "GPU",
  "colab": {
   "authorship_tag": "ABX9TyMzZ4IJbRR713ssS1uVa6Le",
   "collapsed_sections": [],
   "include_colab_link": true,
   "name": "01_food101_effnet_benchmark.ipynb",
   "provenance": []
  },
  "kernelspec": {
   "display_name": "Tensorflow-2.9",
   "language": "python",
   "name": "tensorflow-2.9"
  },
  "language_info": {
   "codemirror_mode": {
    "name": "ipython",
    "version": 3
   },
   "file_extension": ".py",
   "mimetype": "text/x-python",
   "name": "python",
   "nbconvert_exporter": "python",
   "pygments_lexer": "ipython3",
   "version": "3.9.12"
  }
 },
 "nbformat": 4,
 "nbformat_minor": 4
}
