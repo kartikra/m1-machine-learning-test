{
 "cells": [
  {
   "cell_type": "markdown",
   "metadata": {
    "colab_type": "text",
    "id": "view-in-github"
   },
   "source": [
    "<a href=\"https://colab.research.google.com/github/mrdbourke/m1-machine-learning-test/blob/main/03_results_comparison.ipynb\" target=\"_parent\"><img src=\"https://colab.research.google.com/assets/colab-badge.svg\" alt=\"Open In Colab\"/></a>"
   ]
  },
  {
   "cell_type": "markdown",
   "metadata": {
    "id": "OHmaDe87oeb5"
   },
   "source": [
    "# Results comparison for M1, M1 Pro, M1 Max Machine Learning Speed Tests\n",
    "\n",
    "The code in this notebook compares the results for various experiments run on Apple's M1, M1 Pro and M1 Max laptops.\n",
    "\n",
    "As well as other various devices such as Google Colab (K80 GPU) and a Nvidia Titan RTX GPU.\n",
    "\n",
    "You can see all of the code the experiments on GitHub: https://github.com/mrdbourke/m1-machine-learning-test"
   ]
  },
  {
   "cell_type": "code",
   "execution_count": 1,
   "metadata": {
    "id": "VW8SQjvwj5Rn"
   },
   "outputs": [],
   "source": [
    "import numpy as np\n",
    "import pandas as pd\n",
    "import matplotlib.pyplot as plt"
   ]
  },
  {
   "cell_type": "markdown",
   "metadata": {
    "id": "CGT5nm-Oo0VW"
   },
   "source": [
    "## Download results\n",
    "\n",
    "The following code will download the results folder from GitHub as a file of CSV's (if they don't already exist in the current directory)."
   ]
  },
  {
   "cell_type": "code",
   "execution_count": 2,
   "metadata": {
    "colab": {
     "base_uri": "https://localhost:8080/"
    },
    "id": "NoVHZ4olkIQb",
    "outputId": "505a13c4-516b-4dcf-b7b9-7abc089804c5"
   },
   "outputs": [],
   "source": [
    "import os\n",
    "if not os.path.exists(\"results\"):\n",
    "  \"'results' folder not found, downloading from GitHub.\"\n",
    "  !git clone https://github.com/mrdbourke/m1-machine-learning-test.git\n",
    "  !mv m1-machine-learning-test/results .\n",
    "  results_path = \"results\"\n",
    "else:\n",
    "  \"'results' folder exists, aborting the clone...\"\n",
    "  results_path = \"results\""
   ]
  },
  {
   "cell_type": "markdown",
   "metadata": {
    "id": "zDO1TvmFo8N-"
   },
   "source": [
    "## Import results to DataFrame"
   ]
  },
  {
   "cell_type": "code",
   "execution_count": 3,
   "metadata": {
    "colab": {
     "base_uri": "https://localhost:8080/",
     "height": 582
    },
    "id": "smdhpEhKkpGz",
    "outputId": "b70b92ae-a278-445d-bac7-fb4a8ed3d6b1"
   },
   "outputs": [
    {
     "data": {
      "text/html": [
       "<div>\n",
       "<style scoped>\n",
       "    .dataframe tbody tr th:only-of-type {\n",
       "        vertical-align: middle;\n",
       "    }\n",
       "\n",
       "    .dataframe tbody tr th {\n",
       "        vertical-align: top;\n",
       "    }\n",
       "\n",
       "    .dataframe thead th {\n",
       "        text-align: right;\n",
       "    }\n",
       "</style>\n",
       "<table border=\"1\" class=\"dataframe\">\n",
       "  <thead>\n",
       "    <tr style=\"text-align: right;\">\n",
       "      <th></th>\n",
       "      <th>device</th>\n",
       "      <th>dataset_name</th>\n",
       "      <th>epochs</th>\n",
       "      <th>batch_size</th>\n",
       "      <th>num_train_samples</th>\n",
       "      <th>num_test_samples</th>\n",
       "      <th>total_train_time</th>\n",
       "      <th>time_per_epoch</th>\n",
       "      <th>model</th>\n",
       "    </tr>\n",
       "  </thead>\n",
       "  <tbody>\n",
       "    <tr>\n",
       "      <th>0</th>\n",
       "      <td>Apple M1 Pro</td>\n",
       "      <td>cifar10</td>\n",
       "      <td>10.0</td>\n",
       "      <td>32.0</td>\n",
       "      <td>50016</td>\n",
       "      <td>10016</td>\n",
       "      <td>161.169</td>\n",
       "      <td>16.117</td>\n",
       "      <td>TinyVGG</td>\n",
       "    </tr>\n",
       "    <tr>\n",
       "      <th>6</th>\n",
       "      <td>AMD Radeon Pro 5500M 8 GB (Intel Mac)</td>\n",
       "      <td>cifar10</td>\n",
       "      <td>10.0</td>\n",
       "      <td>32.0</td>\n",
       "      <td>50016</td>\n",
       "      <td>10016</td>\n",
       "      <td>179.712</td>\n",
       "      <td>17.971</td>\n",
       "      <td>TinyVGG</td>\n",
       "    </tr>\n",
       "    <tr>\n",
       "      <th>17</th>\n",
       "      <td>TITAN RTX GPU</td>\n",
       "      <td>cifar10</td>\n",
       "      <td>10.0</td>\n",
       "      <td>32.0</td>\n",
       "      <td>50016</td>\n",
       "      <td>10016</td>\n",
       "      <td>37.092</td>\n",
       "      <td>3.709</td>\n",
       "      <td>TinyVGG</td>\n",
       "    </tr>\n",
       "    <tr>\n",
       "      <th>16</th>\n",
       "      <td>Google Colab (K80 GPU)</td>\n",
       "      <td>cifar10</td>\n",
       "      <td>10.0</td>\n",
       "      <td>32.0</td>\n",
       "      <td>50016</td>\n",
       "      <td>10016</td>\n",
       "      <td>166.911</td>\n",
       "      <td>16.691</td>\n",
       "      <td>TinyVGG</td>\n",
       "    </tr>\n",
       "    <tr>\n",
       "      <th>14</th>\n",
       "      <td>Apple M1 Max</td>\n",
       "      <td>cifar10</td>\n",
       "      <td>10.0</td>\n",
       "      <td>32.0</td>\n",
       "      <td>50016</td>\n",
       "      <td>10016</td>\n",
       "      <td>143.287</td>\n",
       "      <td>14.329</td>\n",
       "      <td>TinyVGG</td>\n",
       "    </tr>\n",
       "    <tr>\n",
       "      <th>19</th>\n",
       "      <td>Apple M1</td>\n",
       "      <td>cifar10</td>\n",
       "      <td>10.0</td>\n",
       "      <td>32.0</td>\n",
       "      <td>50016</td>\n",
       "      <td>10016</td>\n",
       "      <td>137.266</td>\n",
       "      <td>13.727</td>\n",
       "      <td>TinyVGG</td>\n",
       "    </tr>\n",
       "    <tr>\n",
       "      <th>2</th>\n",
       "      <td>NVIDIA GeForce RTX 3080 Laptop GPU</td>\n",
       "      <td>cifar10</td>\n",
       "      <td>10.0</td>\n",
       "      <td>32.0</td>\n",
       "      <td>50016</td>\n",
       "      <td>10016</td>\n",
       "      <td>29.622</td>\n",
       "      <td>2.962</td>\n",
       "      <td>TinyVGG</td>\n",
       "    </tr>\n",
       "    <tr>\n",
       "      <th>7</th>\n",
       "      <td>NVIDIA GeForce RTX 3080 Laptop GPU</td>\n",
       "      <td>california_housing</td>\n",
       "      <td>NaN</td>\n",
       "      <td>NaN</td>\n",
       "      <td>16512</td>\n",
       "      <td>4128</td>\n",
       "      <td>13.776</td>\n",
       "      <td>NaN</td>\n",
       "      <td>RandomForestCV</td>\n",
       "    </tr>\n",
       "    <tr>\n",
       "      <th>8</th>\n",
       "      <td>Apple M1</td>\n",
       "      <td>california_housing</td>\n",
       "      <td>NaN</td>\n",
       "      <td>NaN</td>\n",
       "      <td>16512</td>\n",
       "      <td>4128</td>\n",
       "      <td>24.099</td>\n",
       "      <td>NaN</td>\n",
       "      <td>RandomForestCV</td>\n",
       "    </tr>\n",
       "    <tr>\n",
       "      <th>12</th>\n",
       "      <td>Apple M1 Max</td>\n",
       "      <td>california_housing</td>\n",
       "      <td>NaN</td>\n",
       "      <td>NaN</td>\n",
       "      <td>16512</td>\n",
       "      <td>4128</td>\n",
       "      <td>16.244</td>\n",
       "      <td>NaN</td>\n",
       "      <td>RandomForestCV</td>\n",
       "    </tr>\n",
       "    <tr>\n",
       "      <th>4</th>\n",
       "      <td>Google Colab</td>\n",
       "      <td>california_housing</td>\n",
       "      <td>NaN</td>\n",
       "      <td>NaN</td>\n",
       "      <td>16512</td>\n",
       "      <td>4128</td>\n",
       "      <td>163.964</td>\n",
       "      <td>NaN</td>\n",
       "      <td>RandomForestCV</td>\n",
       "    </tr>\n",
       "    <tr>\n",
       "      <th>3</th>\n",
       "      <td>Apple M1 Pro</td>\n",
       "      <td>california_housing</td>\n",
       "      <td>NaN</td>\n",
       "      <td>NaN</td>\n",
       "      <td>16512</td>\n",
       "      <td>4128</td>\n",
       "      <td>20.383</td>\n",
       "      <td>NaN</td>\n",
       "      <td>RandomForestCV</td>\n",
       "    </tr>\n",
       "    <tr>\n",
       "      <th>18</th>\n",
       "      <td>Intel_Mac</td>\n",
       "      <td>california_housing</td>\n",
       "      <td>NaN</td>\n",
       "      <td>NaN</td>\n",
       "      <td>16512</td>\n",
       "      <td>4128</td>\n",
       "      <td>20.424</td>\n",
       "      <td>NaN</td>\n",
       "      <td>RandomForestCV</td>\n",
       "    </tr>\n",
       "    <tr>\n",
       "      <th>5</th>\n",
       "      <td>TITAN RTX GPU</td>\n",
       "      <td>food101</td>\n",
       "      <td>5.0</td>\n",
       "      <td>32.0</td>\n",
       "      <td>75776</td>\n",
       "      <td>25280</td>\n",
       "      <td>463.753</td>\n",
       "      <td>92.751</td>\n",
       "      <td>EfficientNetB0_feature_extract</td>\n",
       "    </tr>\n",
       "    <tr>\n",
       "      <th>9</th>\n",
       "      <td>Apple M1 Pro</td>\n",
       "      <td>food101</td>\n",
       "      <td>5.0</td>\n",
       "      <td>32.0</td>\n",
       "      <td>75776</td>\n",
       "      <td>25280</td>\n",
       "      <td>1485.993</td>\n",
       "      <td>297.199</td>\n",
       "      <td>EfficientNetB0_feature_extract</td>\n",
       "    </tr>\n",
       "    <tr>\n",
       "      <th>1</th>\n",
       "      <td>Apple M1</td>\n",
       "      <td>food101</td>\n",
       "      <td>5.0</td>\n",
       "      <td>32.0</td>\n",
       "      <td>75776</td>\n",
       "      <td>25280</td>\n",
       "      <td>3387.391</td>\n",
       "      <td>677.478</td>\n",
       "      <td>EfficientNetB0_feature_extract</td>\n",
       "    </tr>\n",
       "    <tr>\n",
       "      <th>11</th>\n",
       "      <td>Google Colab (K80 GPU)</td>\n",
       "      <td>food101</td>\n",
       "      <td>5.0</td>\n",
       "      <td>32.0</td>\n",
       "      <td>75776</td>\n",
       "      <td>25280</td>\n",
       "      <td>2122.140</td>\n",
       "      <td>424.428</td>\n",
       "      <td>EfficientNetB0_feature_extract</td>\n",
       "    </tr>\n",
       "    <tr>\n",
       "      <th>13</th>\n",
       "      <td>AMD Radeon Pro 5500M 8 GB (Intel Mac)</td>\n",
       "      <td>food101</td>\n",
       "      <td>5.0</td>\n",
       "      <td>32.0</td>\n",
       "      <td>75776</td>\n",
       "      <td>25280</td>\n",
       "      <td>3032.461</td>\n",
       "      <td>606.492</td>\n",
       "      <td>EfficientNetB0_feature_extract</td>\n",
       "    </tr>\n",
       "    <tr>\n",
       "      <th>15</th>\n",
       "      <td>NVIDIA GeForce RTX 3080 Laptop GPU</td>\n",
       "      <td>food101</td>\n",
       "      <td>5.0</td>\n",
       "      <td>32.0</td>\n",
       "      <td>75776</td>\n",
       "      <td>25280</td>\n",
       "      <td>552.716</td>\n",
       "      <td>110.543</td>\n",
       "      <td>EfficientNetB0_feature_extract</td>\n",
       "    </tr>\n",
       "    <tr>\n",
       "      <th>10</th>\n",
       "      <td>Apple M1 Max</td>\n",
       "      <td>food101</td>\n",
       "      <td>5.0</td>\n",
       "      <td>32.0</td>\n",
       "      <td>75776</td>\n",
       "      <td>25280</td>\n",
       "      <td>958.951</td>\n",
       "      <td>191.790</td>\n",
       "      <td>EfficientNetB0_feature_extract</td>\n",
       "    </tr>\n",
       "  </tbody>\n",
       "</table>\n",
       "</div>"
      ],
      "text/plain": [
       "                                   device        dataset_name  epochs  \\\n",
       "0                            Apple M1 Pro             cifar10    10.0   \n",
       "6   AMD Radeon Pro 5500M 8 GB (Intel Mac)             cifar10    10.0   \n",
       "17                          TITAN RTX GPU             cifar10    10.0   \n",
       "16                 Google Colab (K80 GPU)             cifar10    10.0   \n",
       "14                           Apple M1 Max             cifar10    10.0   \n",
       "19                               Apple M1             cifar10    10.0   \n",
       "2      NVIDIA GeForce RTX 3080 Laptop GPU             cifar10    10.0   \n",
       "7      NVIDIA GeForce RTX 3080 Laptop GPU  california_housing     NaN   \n",
       "8                                Apple M1  california_housing     NaN   \n",
       "12                           Apple M1 Max  california_housing     NaN   \n",
       "4                            Google Colab  california_housing     NaN   \n",
       "3                            Apple M1 Pro  california_housing     NaN   \n",
       "18                              Intel_Mac  california_housing     NaN   \n",
       "5                           TITAN RTX GPU             food101     5.0   \n",
       "9                            Apple M1 Pro             food101     5.0   \n",
       "1                                Apple M1             food101     5.0   \n",
       "11                 Google Colab (K80 GPU)             food101     5.0   \n",
       "13  AMD Radeon Pro 5500M 8 GB (Intel Mac)             food101     5.0   \n",
       "15     NVIDIA GeForce RTX 3080 Laptop GPU             food101     5.0   \n",
       "10                           Apple M1 Max             food101     5.0   \n",
       "\n",
       "    batch_size  num_train_samples  num_test_samples  total_train_time  \\\n",
       "0         32.0              50016             10016           161.169   \n",
       "6         32.0              50016             10016           179.712   \n",
       "17        32.0              50016             10016            37.092   \n",
       "16        32.0              50016             10016           166.911   \n",
       "14        32.0              50016             10016           143.287   \n",
       "19        32.0              50016             10016           137.266   \n",
       "2         32.0              50016             10016            29.622   \n",
       "7          NaN              16512              4128            13.776   \n",
       "8          NaN              16512              4128            24.099   \n",
       "12         NaN              16512              4128            16.244   \n",
       "4          NaN              16512              4128           163.964   \n",
       "3          NaN              16512              4128            20.383   \n",
       "18         NaN              16512              4128            20.424   \n",
       "5         32.0              75776             25280           463.753   \n",
       "9         32.0              75776             25280          1485.993   \n",
       "1         32.0              75776             25280          3387.391   \n",
       "11        32.0              75776             25280          2122.140   \n",
       "13        32.0              75776             25280          3032.461   \n",
       "15        32.0              75776             25280           552.716   \n",
       "10        32.0              75776             25280           958.951   \n",
       "\n",
       "    time_per_epoch                           model  \n",
       "0           16.117                         TinyVGG  \n",
       "6           17.971                         TinyVGG  \n",
       "17           3.709                         TinyVGG  \n",
       "16          16.691                         TinyVGG  \n",
       "14          14.329                         TinyVGG  \n",
       "19          13.727                         TinyVGG  \n",
       "2            2.962                         TinyVGG  \n",
       "7              NaN                  RandomForestCV  \n",
       "8              NaN                  RandomForestCV  \n",
       "12             NaN                  RandomForestCV  \n",
       "4              NaN                  RandomForestCV  \n",
       "3              NaN                  RandomForestCV  \n",
       "18             NaN                  RandomForestCV  \n",
       "5           92.751  EfficientNetB0_feature_extract  \n",
       "9          297.199  EfficientNetB0_feature_extract  \n",
       "1          677.478  EfficientNetB0_feature_extract  \n",
       "11         424.428  EfficientNetB0_feature_extract  \n",
       "13         606.492  EfficientNetB0_feature_extract  \n",
       "15         110.543  EfficientNetB0_feature_extract  \n",
       "10         191.790  EfficientNetB0_feature_extract  "
      ]
     },
     "execution_count": 3,
     "metadata": {},
     "output_type": "execute_result"
    }
   ],
   "source": [
    "import pathlib\n",
    "\n",
    "results_list = pathlib.Path(results_path).glob(\"*.csv\")\n",
    "results_df_list = []\n",
    "\n",
    "for result in results_list:\n",
    "  df = pd.read_csv(result, header=0)\n",
    "  results_df_list.append(df)\n",
    "\n",
    "results_df = (pd.concat(results_df_list, \n",
    "                       axis=0, \n",
    "                       ignore_index=True)\n",
    "              .drop(\"Unnamed: 0\", axis=1)\n",
    "              .sort_values(\"model\", ascending=False))\n",
    "\n",
    "results_df"
   ]
  },
  {
   "cell_type": "markdown",
   "metadata": {
    "id": "AYu-K69go_Bv"
   },
   "source": [
    "## Create helper function to plot results"
   ]
  },
  {
   "cell_type": "code",
   "execution_count": 4,
   "metadata": {
    "id": "TthrWZNYmmcV"
   },
   "outputs": [],
   "source": [
    "def plot_results(results, x_col_name, y_col_name, title, xlabel, ylabel):\n",
    "  plt.figure(figsize=(10, 7))\n",
    "  plt.bar(results[x_col_name], results[y_col_name])\n",
    "  plt.title(title, fontsize=18)\n",
    "  plt.xlabel(xlabel, fontsize=14)\n",
    "  plt.xticks(rotation=45, ha=\"right\")\n",
    "  plt.ylabel(ylabel, fontsize=14);"
   ]
  },
  {
   "cell_type": "markdown",
   "metadata": {
    "id": "wyy7FgRnkUVo"
   },
   "source": [
    "## CIFAR10 with TinyVGG\n",
    "\n",
    "Results from notebook code - https://github.com/mrdbourke/m1-machine-learning-test/blob/main/00_cifar10_tinyvgg_benchmark.ipynb"
   ]
  },
  {
   "cell_type": "code",
   "execution_count": 5,
   "metadata": {
    "colab": {
     "base_uri": "https://localhost:8080/",
     "height": 238
    },
    "id": "LUVNXNpTlZDn",
    "outputId": "d2418a7f-c57e-46a0-e4a8-407532fccec2"
   },
   "outputs": [
    {
     "data": {
      "text/html": [
       "<div>\n",
       "<style scoped>\n",
       "    .dataframe tbody tr th:only-of-type {\n",
       "        vertical-align: middle;\n",
       "    }\n",
       "\n",
       "    .dataframe tbody tr th {\n",
       "        vertical-align: top;\n",
       "    }\n",
       "\n",
       "    .dataframe thead th {\n",
       "        text-align: right;\n",
       "    }\n",
       "</style>\n",
       "<table border=\"1\" class=\"dataframe\">\n",
       "  <thead>\n",
       "    <tr style=\"text-align: right;\">\n",
       "      <th></th>\n",
       "      <th>device</th>\n",
       "      <th>time_per_epoch</th>\n",
       "    </tr>\n",
       "  </thead>\n",
       "  <tbody>\n",
       "    <tr>\n",
       "      <th>2</th>\n",
       "      <td>NVIDIA GeForce RTX 3080 Laptop GPU</td>\n",
       "      <td>2.962</td>\n",
       "    </tr>\n",
       "    <tr>\n",
       "      <th>17</th>\n",
       "      <td>TITAN RTX GPU</td>\n",
       "      <td>3.709</td>\n",
       "    </tr>\n",
       "    <tr>\n",
       "      <th>19</th>\n",
       "      <td>Apple M1</td>\n",
       "      <td>13.727</td>\n",
       "    </tr>\n",
       "    <tr>\n",
       "      <th>14</th>\n",
       "      <td>Apple M1 Max</td>\n",
       "      <td>14.329</td>\n",
       "    </tr>\n",
       "    <tr>\n",
       "      <th>0</th>\n",
       "      <td>Apple M1 Pro</td>\n",
       "      <td>16.117</td>\n",
       "    </tr>\n",
       "    <tr>\n",
       "      <th>16</th>\n",
       "      <td>Google Colab (K80 GPU)</td>\n",
       "      <td>16.691</td>\n",
       "    </tr>\n",
       "    <tr>\n",
       "      <th>6</th>\n",
       "      <td>AMD Radeon Pro 5500M 8 GB (Intel Mac)</td>\n",
       "      <td>17.971</td>\n",
       "    </tr>\n",
       "  </tbody>\n",
       "</table>\n",
       "</div>"
      ],
      "text/plain": [
       "                                   device  time_per_epoch\n",
       "2      NVIDIA GeForce RTX 3080 Laptop GPU           2.962\n",
       "17                          TITAN RTX GPU           3.709\n",
       "19                               Apple M1          13.727\n",
       "14                           Apple M1 Max          14.329\n",
       "0                            Apple M1 Pro          16.117\n",
       "16                 Google Colab (K80 GPU)          16.691\n",
       "6   AMD Radeon Pro 5500M 8 GB (Intel Mac)          17.971"
      ]
     },
     "execution_count": 5,
     "metadata": {},
     "output_type": "execute_result"
    }
   ],
   "source": [
    "tinyvgg_results = results_df[results_df[\"model\"] == \"TinyVGG\"][[\"device\", \"time_per_epoch\"]].sort_values(\"time_per_epoch\")\n",
    "tinyvgg_results"
   ]
  },
  {
   "cell_type": "code",
   "execution_count": 6,
   "metadata": {
    "colab": {
     "base_uri": "https://localhost:8080/",
     "height": 607
    },
    "id": "Y2mYb8GRnG9h",
    "outputId": "bd425082-a536-4b63-80d1-41083d6df408"
   },
   "outputs": [
    {
     "data": {
      "image/png": "[encoded data removed]",
      "text/plain": [
       "<Figure size 720x504 with 1 Axes>"
      ]
     },
     "metadata": {
      "needs_background": "light"
     },
     "output_type": "display_data"
    }
   ],
   "source": [
    "plot_results(results=tinyvgg_results,\n",
    "             x_col_name=\"device\",\n",
    "             y_col_name=\"time_per_epoch\",\n",
    "             title=\"CIFAR10 Dataset with TinyVGG TensorFlow Model\",\n",
    "             xlabel=\"Device\",\n",
    "             ylabel=\"Time Per Epoch (seconds)\")"
   ]
  },
  {
   "cell_type": "markdown",
   "metadata": {
    "id": "KVuFUG61kYGM"
   },
   "source": [
    "## EfficientNetB0 feature extractor with Food101\n",
    "\n",
    "Results from notebook code - https://github.com/mrdbourke/m1-machine-learning-test/blob/main/01_food101_effnet_benchmark.ipynb"
   ]
  },
  {
   "cell_type": "code",
   "execution_count": 7,
   "metadata": {
    "colab": {
     "base_uri": "https://localhost:8080/",
     "height": 238
    },
    "id": "BxNn7Gkll1s-",
    "outputId": "9f78bc52-f568-454c-9f5b-81ca77a141cc"
   },
   "outputs": [
    {
     "data": {
      "text/html": [
       "<div>\n",
       "<style scoped>\n",
       "    .dataframe tbody tr th:only-of-type {\n",
       "        vertical-align: middle;\n",
       "    }\n",
       "\n",
       "    .dataframe tbody tr th {\n",
       "        vertical-align: top;\n",
       "    }\n",
       "\n",
       "    .dataframe thead th {\n",
       "        text-align: right;\n",
       "    }\n",
       "</style>\n",
       "<table border=\"1\" class=\"dataframe\">\n",
       "  <thead>\n",
       "    <tr style=\"text-align: right;\">\n",
       "      <th></th>\n",
       "      <th>device</th>\n",
       "      <th>time_per_epoch</th>\n",
       "    </tr>\n",
       "  </thead>\n",
       "  <tbody>\n",
       "    <tr>\n",
       "      <th>5</th>\n",
       "      <td>TITAN RTX GPU</td>\n",
       "      <td>92.751</td>\n",
       "    </tr>\n",
       "    <tr>\n",
       "      <th>15</th>\n",
       "      <td>NVIDIA GeForce RTX 3080 Laptop GPU</td>\n",
       "      <td>110.543</td>\n",
       "    </tr>\n",
       "    <tr>\n",
       "      <th>10</th>\n",
       "      <td>Apple M1 Max</td>\n",
       "      <td>191.790</td>\n",
       "    </tr>\n",
       "    <tr>\n",
       "      <th>9</th>\n",
       "      <td>Apple M1 Pro</td>\n",
       "      <td>297.199</td>\n",
       "    </tr>\n",
       "    <tr>\n",
       "      <th>11</th>\n",
       "      <td>Google Colab (K80 GPU)</td>\n",
       "      <td>424.428</td>\n",
       "    </tr>\n",
       "    <tr>\n",
       "      <th>13</th>\n",
       "      <td>AMD Radeon Pro 5500M 8 GB (Intel Mac)</td>\n",
       "      <td>606.492</td>\n",
       "    </tr>\n",
       "    <tr>\n",
       "      <th>1</th>\n",
       "      <td>Apple M1</td>\n",
       "      <td>677.478</td>\n",
       "    </tr>\n",
       "  </tbody>\n",
       "</table>\n",
       "</div>"
      ],
      "text/plain": [
       "                                   device  time_per_epoch\n",
       "5                           TITAN RTX GPU          92.751\n",
       "15     NVIDIA GeForce RTX 3080 Laptop GPU         110.543\n",
       "10                           Apple M1 Max         191.790\n",
       "9                            Apple M1 Pro         297.199\n",
       "11                 Google Colab (K80 GPU)         424.428\n",
       "13  AMD Radeon Pro 5500M 8 GB (Intel Mac)         606.492\n",
       "1                                Apple M1         677.478"
      ]
     },
     "execution_count": 7,
     "metadata": {},
     "output_type": "execute_result"
    }
   ],
   "source": [
    "effnetb0_results = results_df[results_df[\"model\"] == \"EfficientNetB0_feature_extract\"][[\"device\", \"time_per_epoch\"]].sort_values(\"time_per_epoch\")\n",
    "effnetb0_results"
   ]
  },
  {
   "cell_type": "code",
   "execution_count": 8,
   "metadata": {
    "colab": {
     "base_uri": "https://localhost:8080/",
     "height": 607
    },
    "id": "i-R72C9ln1aE",
    "outputId": "1b2d4e2a-c2dc-420b-b0a2-1404f0fbcdd6"
   },
   "outputs": [
    {
     "data": {
      "image/png": "[encoded data removed]",
      "text/plain": [
       "<Figure size 720x504 with 1 Axes>"
      ]
     },
     "metadata": {
      "needs_background": "light"
     },
     "output_type": "display_data"
    }
   ],
   "source": [
    "plot_results(results=effnetb0_results,\n",
    "             x_col_name=\"device\",\n",
    "             y_col_name=\"time_per_epoch\",\n",
    "             title=\"Food101 Dataset with EfficientNetB0 Feature Extractor TensorFlow Model\",\n",
    "             xlabel=\"Device\",\n",
    "             ylabel=\"Time Per Epoch (seconds)\")"
   ]
  },
  {
   "cell_type": "markdown",
   "metadata": {
    "id": "XvqUbZapl8Nj"
   },
   "source": [
    "## RandomForestClassifier Cross-validation with California Housing Dataset\n",
    "\n",
    "Results from notebook code - https://github.com/mrdbourke/m1-machine-learning-test/blob/main/02_random_forest_benchmark.ipynb "
   ]
  },
  {
   "cell_type": "code",
   "execution_count": 9,
   "metadata": {
    "colab": {
     "base_uri": "https://localhost:8080/",
     "height": 206
    },
    "id": "7pe1DmZdkmZS",
    "outputId": "dac870bf-1e30-45ad-d08c-157ea5aa8184"
   },
   "outputs": [
    {
     "data": {
      "text/html": [
       "<div>\n",
       "<style scoped>\n",
       "    .dataframe tbody tr th:only-of-type {\n",
       "        vertical-align: middle;\n",
       "    }\n",
       "\n",
       "    .dataframe tbody tr th {\n",
       "        vertical-align: top;\n",
       "    }\n",
       "\n",
       "    .dataframe thead th {\n",
       "        text-align: right;\n",
       "    }\n",
       "</style>\n",
       "<table border=\"1\" class=\"dataframe\">\n",
       "  <thead>\n",
       "    <tr style=\"text-align: right;\">\n",
       "      <th></th>\n",
       "      <th>device</th>\n",
       "      <th>total_train_time</th>\n",
       "    </tr>\n",
       "  </thead>\n",
       "  <tbody>\n",
       "    <tr>\n",
       "      <th>7</th>\n",
       "      <td>NVIDIA GeForce RTX 3080 Laptop GPU</td>\n",
       "      <td>13.776</td>\n",
       "    </tr>\n",
       "    <tr>\n",
       "      <th>12</th>\n",
       "      <td>Apple M1 Max</td>\n",
       "      <td>16.244</td>\n",
       "    </tr>\n",
       "    <tr>\n",
       "      <th>3</th>\n",
       "      <td>Apple M1 Pro</td>\n",
       "      <td>20.383</td>\n",
       "    </tr>\n",
       "    <tr>\n",
       "      <th>18</th>\n",
       "      <td>Intel_Mac</td>\n",
       "      <td>20.424</td>\n",
       "    </tr>\n",
       "    <tr>\n",
       "      <th>8</th>\n",
       "      <td>Apple M1</td>\n",
       "      <td>24.099</td>\n",
       "    </tr>\n",
       "    <tr>\n",
       "      <th>4</th>\n",
       "      <td>Google Colab</td>\n",
       "      <td>163.964</td>\n",
       "    </tr>\n",
       "  </tbody>\n",
       "</table>\n",
       "</div>"
      ],
      "text/plain": [
       "                                device  total_train_time\n",
       "7   NVIDIA GeForce RTX 3080 Laptop GPU            13.776\n",
       "12                        Apple M1 Max            16.244\n",
       "3                         Apple M1 Pro            20.383\n",
       "18                           Intel_Mac            20.424\n",
       "8                             Apple M1            24.099\n",
       "4                         Google Colab           163.964"
      ]
     },
     "execution_count": 9,
     "metadata": {},
     "output_type": "execute_result"
    }
   ],
   "source": [
    "random_forest_results = results_df[results_df[\"model\"] == \"RandomForestCV\"][[\"device\", \"total_train_time\"]].sort_values(\"total_train_time\")\n",
    "random_forest_results"
   ]
  },
  {
   "cell_type": "code",
   "execution_count": 10,
   "metadata": {
    "colab": {
     "base_uri": "https://localhost:8080/",
     "height": 513
    },
    "id": "hC2NfKh4oNoS",
    "outputId": "5d12ac9f-f1db-43aa-80dc-dc685f62bbc9"
   },
   "outputs": [
    {
     "data": {
      "image/png": "[encoded data removed]",
      "text/plain": [
       "<Figure size 720x504 with 1 Axes>"
      ]
     },
     "metadata": {
      "needs_background": "light"
     },
     "output_type": "display_data"
    }
   ],
   "source": [
    "plot_results(results=random_forest_results,\n",
    "             x_col_name=\"device\",\n",
    "             y_col_name=\"total_train_time\",\n",
    "             title=\"RandomForestClassifier Cross-validation with California Housing Dataset\",\n",
    "             xlabel=\"Device\",\n",
    "             ylabel=\"Total Train Time (seconds)\")"
   ]
  },
  {
   "cell_type": "code",
   "execution_count": null,
   "metadata": {},
   "outputs": [],
   "source": []
  }
 ],
 "metadata": {
  "colab": {
   "authorship_tag": "ABX9TyNo+jvEsXyXKW5fdl4I5opP",
   "collapsed_sections": [],
   "include_colab_link": true,
   "name": "03_results_comparison.ipynb",
   "provenance": []
  },
  "kernelspec": {
   "display_name": "Tensorflow-2.9",
   "language": "python",
   "name": "tensorflow-2.9"
  },
  "language_info": {
   "codemirror_mode": {
    "name": "ipython",
    "version": 3
   },
   "file_extension": ".py",
   "mimetype": "text/x-python",
   "name": "python",
   "nbconvert_exporter": "python",
   "pygments_lexer": "ipython3",
   "version": "3.9.12"
  }
 },
 "nbformat": 4,
 "nbformat_minor": 4
}
